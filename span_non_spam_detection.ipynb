{
 "cells": [
  {
   "cell_type": "markdown",
   "metadata": {},
   "source": [
    "#this is my own code to spam and non spam detection using python3"
   ]
  },
  {
   "cell_type": "markdown",
   "metadata": {},
   "source": [
    "word count and store that in a ductionary"
   ]
  },
  {
   "cell_type": "code",
   "execution_count": 39,
   "metadata": {},
   "outputs": [],
   "source": [
    "import os\n",
    "import numpy as np\n",
    "from collections import Counter\n",
    "from sklearn.naive_bayes import GaussianNB\n",
    "from sklearn.metrics import accuracy_score"
   ]
  },
  {
   "cell_type": "code",
   "execution_count": 40,
   "metadata": {},
   "outputs": [],
   "source": [
    "import os\n",
    "\n",
    "def doc_to_dict(directory_path):\n",
    "    l=os.listdir(directory_path)\n",
    "    all_files=[]\n",
    "    for i in l:\n",
    "        all_files.append(os.path.join(directory_path,i))\n",
    "    lis=[]\n",
    "    for file in all_files:\n",
    "    \n",
    "        with open(file) as f:\n",
    "            for i in f.readlines():\n",
    "                c=i.split()\n",
    "                lis+=c\n",
    "    dic={}\n",
    "    for i in lis:\n",
    "        if i not in dic.keys():\n",
    "            dic[i]=1\n",
    "        else:\n",
    "            dic[i]+=1\n",
    "    return dic"
   ]
  },
  {
   "cell_type": "code",
   "execution_count": 41,
   "metadata": {},
   "outputs": [],
   "source": [
    "a=doc_to_dict(\"/home/ibab/Machine_learning/ML_Test-1/machine-learning-101-master/chapter1/train-mails\")"
   ]
  },
  {
   "cell_type": "markdown",
   "metadata": {},
   "source": [
    "#take the word which is alpha numeric and length is greater than1"
   ]
  },
  {
   "cell_type": "code",
   "execution_count": 46,
   "metadata": {},
   "outputs": [],
   "source": [
    "def good_dic(dic):\n",
    "    key_list=list(dic)\n",
    "    for key in key_list:\n",
    "        if key.isalpha == False or len(key)==1:\n",
    "            del dic[key]\n",
    "    new_dic=dict(Counter(dic).most_common(3000))\n",
    "    return new_dic"
   ]
  },
  {
   "cell_type": "code",
   "execution_count": 47,
   "metadata": {},
   "outputs": [],
   "source": [
    "dictionary=good_dic(a)"
   ]
  },
  {
   "cell_type": "code",
   "execution_count": 48,
   "metadata": {},
   "outputs": [],
   "source": [
    "def extract_features(mail_dir):\n",
    "    files = [os.path.join(mail_dir,fi) for fi in os.listdir(mail_dir)]\n",
    "    features_matrix = np.zeros((len(files),3000))\n",
    "    train_labels = np.zeros(len(files))\n",
    "    count = 0;\n",
    "    docID = 0;\n",
    "    for fil in files:\n",
    "        with open(fil) as fi:\n",
    "            for i,line in enumerate(fi):\n",
    "                if i == 2:\n",
    "                    words = line.split()\n",
    "                    for word in words:\n",
    "                        wordID = 0\n",
    "                    for i,d in enumerate(dictionary):\n",
    "                        if d[0] == word:\n",
    "                            wordID = i\n",
    "                            features_matrix[docID,wordID] = words.count(word)\n",
    "        train_labels[docID] = 0;\n",
    "        filepathTokens = fil.split('/')\n",
    "        lastToken = filepathTokens[len(filepathTokens) - 1]\n",
    "        if lastToken.startswith(\"spmsg\"):\n",
    "            train_labels[docID] = 1;\n",
    "            count = count + 1\n",
    "        docID = docID + 1\n",
    "    return features_matrix, train_labels"
   ]
  },
  {
   "cell_type": "code",
   "execution_count": 49,
   "metadata": {},
   "outputs": [],
   "source": [
    "features_matrix, labels =extract_features(\"/home/ibab/Machine_learning/ML_Test-1/machine-learning-101-master/chapter1/test-mails\")\n",
    "test_feature_matrix, test_labels=extract_features(\"/home/ibab/Machine_learning/ML_Test-1/machine-learning-101-master/chapter1/test-mails\")"
   ]
  },
  {
   "cell_type": "code",
   "execution_count": 50,
   "metadata": {},
   "outputs": [
    {
     "name": "stdout",
     "output_type": "stream",
     "text": [
      "0.5192307692307693\n"
     ]
    }
   ],
   "source": [
    "from sklearn.naive_bayes import GaussianNB\n",
    "model = GaussianNB()#train model\n",
    "model.fit(features_matrix, labels)#predict\n",
    "predicted_labels = model.predict(test_feature_matrix)\n",
    "from sklearn.metrics import accuracy_score\n",
    "accuracy = accuracy_score(test_labels, predicted_labels)\n",
    "print(accuracy)"
   ]
  },
  {
   "cell_type": "markdown",
   "metadata": {},
   "source": [
    "model is 51.9 % accurately predict"
   ]
  },
  {
   "cell_type": "code",
   "execution_count": null,
   "metadata": {},
   "outputs": [],
   "source": []
  }
 ],
 "metadata": {
  "kernelspec": {
   "display_name": "Python 3",
   "language": "python",
   "name": "python3"
  },
  "language_info": {
   "codemirror_mode": {
    "name": "ipython",
    "version": 3
   },
   "file_extension": ".py",
   "mimetype": "text/x-python",
   "name": "python",
   "nbconvert_exporter": "python",
   "pygments_lexer": "ipython3",
   "version": "3.6.8"
  }
 },
 "nbformat": 4,
 "nbformat_minor": 2
}
